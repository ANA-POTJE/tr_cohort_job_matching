{
 "cells": [
  {
   "cell_type": "code",
   "execution_count": 44,
   "metadata": {},
   "outputs": [],
   "source": [
    "#Tech Returners want to improve the conversations we have with our cohorts such that we want to really understand \n",
    "#which jobs match our cohort members.\n",
    "#Your task is to write a function that accepts a list of job characteristics and a list of individual skills/characteristics. \n",
    "#It should use those two different sets of characteristics to provide a match score between 0 and 100. \n",
    "#Where 100 is the ideal match and 0 indicates definitely do NOT show this person that job.\n",
    "#\n",
    "#An example list of job characteristics might be (please create others to test out your code):\n",
    "#Job A characteristics: “remote” “flexible working hours”\n",
    "#Job B characteristics: “office based two days per week” “react developer”\n",
    "#Individual A skills/characteristics: “wants to work remote” “react experience” “looking for frontend”\n",
    "#Individual B skills/characteristics: “backend developer” “cloud experience” “AWS certified”"
   ]
  },
  {
   "cell_type": "code",
   "execution_count": 68,
   "metadata": {},
   "outputs": [
    {
     "name": "stdout",
     "output_type": "stream",
     "text": [
      "['remote', 'flexible working hours']\n",
      "['office based two days per week', 'react developer']\n",
      "['wants to work remote', 'react experience', 'looking for frontend']\n",
      "['backend developer', 'cloud experience', 'AWS certified']\n"
     ]
    }
   ],
   "source": [
    "### LANGUAGE USED = PYTHON\n",
    "###\n",
    "#### the variables below are the lists created to be used as input parameters\n",
    "\n",
    "job_a = ['remote', 'flexible working hours']\n",
    "job_b = ['office based two days per week', 'react developer']\n",
    "ind_a = ['wants to work remote','react experience','looking for frontend']\n",
    "ind_b = ['backend developer','cloud experience','AWS certified']\n",
    "print(job_a)\n",
    "print(job_b)\n",
    "print(ind_a)\n",
    "print(ind_b)"
   ]
  },
  {
   "cell_type": "code",
   "execution_count": 70,
   "metadata": {},
   "outputs": [
    {
     "name": "stdout",
     "output_type": "stream",
     "text": [
      "0\n"
     ]
    }
   ],
   "source": [
    "### This function receives 2 list as arguments and loops over the INDIVIDUAL skills\n",
    "### Then if loops over the JOB characteristics to check if any JOB matches the INDIVIDUAL skills\n",
    "###\n",
    "### If there is NO match, I check if there is any INDIVIDUAL skill that matches a JOB characteristic \n",
    "### (change the order of the loops)\n",
    "###\n",
    "### TO RUN THE CODE, please substitute \"job_a\", \"ind_a\" as shown below and use different lists:\n",
    "### if __name__ == '__main__':\n",
    "###    result = match_score(job_a, ind_a) ### CHANGE parameters here\n",
    "###    print(result)\n",
    "###\n",
    "###\n",
    "### TESTING THE CODE:\n",
    "### 1) JOB A and IND A ==>> MATCH = 50 (REMOTE characteristic matches)\n",
    "### 2) JOB A and IND B ==>> MATCH = 0 (no match)\n",
    "### 3) JOB B and IND A ==>> MATCH = 0 (ERROR in the program - see explanation below!!)\n",
    "### 4) JOB B and IND B ==>> MATCH = 0 (no match)\n",
    "###\n",
    "### Issue found in TEST 3: \"react developer\" and \"react experience\" should be split in different strings and compared\n",
    "### word by word ... Unfortunately needed more time to fix this issue (using the python functionality below) \n",
    "### and also to test more!\n",
    "###\n",
    "### a = \"this is a string\"\n",
    "### a = a.split(\" \") # a is converted to a list of strings. \n",
    "### print(a)\n",
    "### ===>>> ['this', 'is', 'a', 'string']\n",
    "\n",
    "def match_score(list_job, list_ind):\n",
    "    \n",
    "    match = 0\n",
    "    num_itens = len(list_job)\n",
    "    \n",
    "    for j in list_ind:        \n",
    "        for i in list_job:\n",
    "            if i in j:\n",
    "                match = match + 1\n",
    "\n",
    "    if match == 0:\n",
    "        num_itens = len(list_ind)\n",
    "\n",
    "        for j in list_job:        \n",
    "            for i in list_ind:\n",
    "                if i in j:\n",
    "                    match = match + 1\n",
    "\n",
    "    return(int(match * 100 / num_itens))\n",
    "\n",
    "if __name__ == '__main__':\n",
    "    result = match_score(job_a, ind_b)\n",
    "    print(result)"
   ]
  },
  {
   "cell_type": "code",
   "execution_count": null,
   "metadata": {},
   "outputs": [],
   "source": []
  }
 ],
 "metadata": {
  "kernelspec": {
   "display_name": "Python 3",
   "language": "python",
   "name": "python3"
  },
  "language_info": {
   "codemirror_mode": {
    "name": "ipython",
    "version": 3
   },
   "file_extension": ".py",
   "mimetype": "text/x-python",
   "name": "python",
   "nbconvert_exporter": "python",
   "pygments_lexer": "ipython3",
   "version": "3.7.3"
  }
 },
 "nbformat": 4,
 "nbformat_minor": 2
}
